{
 "cells": [
  {
   "cell_type": "code",
   "execution_count": 28,
   "id": "f8feb574-36d1-4717-a0ec-b4e430d3876b",
   "metadata": {},
   "outputs": [],
   "source": [
    "import pandas as pd"
   ]
  },
  {
   "cell_type": "code",
   "execution_count": 29,
   "id": "51bd1b40-3239-4bfd-bd38-bfd9d9c2b6f0",
   "metadata": {},
   "outputs": [],
   "source": [
    "def wrangle(url):\n",
    "    sp500 = pd.read_html(html_url)[0][\"Symbol\"]\n",
    "    list = [ticker for ticker in sp500]\n",
    "    return list"
   ]
  },
  {
   "cell_type": "code",
   "execution_count": 30,
   "id": "4b82aebb-3b90-4870-8a87-269ef33d6e22",
   "metadata": {},
   "outputs": [],
   "source": [
    "html_url = \"https://en.wikipedia.org/wiki/List_of_S%26P_500_companies\"\n",
    "data = wrangle(html_url)"
   ]
  },
  {
   "cell_type": "code",
   "execution_count": null,
   "id": "e6c713da-3a2f-4aca-8a94-37ed1420f78b",
   "metadata": {},
   "outputs": [],
   "source": []
  }
 ],
 "metadata": {
  "kernelspec": {
   "display_name": "Python 3 (ipykernel)",
   "language": "python",
   "name": "python3"
  },
  "language_info": {
   "codemirror_mode": {
    "name": "ipython",
    "version": 3
   },
   "file_extension": ".py",
   "mimetype": "text/x-python",
   "name": "python",
   "nbconvert_exporter": "python",
   "pygments_lexer": "ipython3",
   "version": "3.11.7"
  }
 },
 "nbformat": 4,
 "nbformat_minor": 5
}
